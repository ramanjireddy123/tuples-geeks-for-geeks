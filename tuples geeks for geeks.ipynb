{
 "cells": [
  {
   "cell_type": "code",
   "execution_count": 1,
   "id": "e21857d2-bc92-4f1e-a4f2-36ac43d4557f",
   "metadata": {},
   "outputs": [
    {
     "name": "stdout",
     "output_type": "stream",
     "text": [
      "Size of Tuple1: 88bytes\n",
      "Size of Tuple2: 88bytes\n",
      "Size of Tuple3: 72bytes\n"
     ]
    }
   ],
   "source": [
    "import sys \n",
    "Tuple1 = (\"A\", 1, \"B\", 2, \"C\", 3)\n",
    "Tuple2 = (\"Geek1\", \"Raju\", \"Geek2\", \"Nikhil\", \"Geek3\", \"Deepanshu\")\n",
    "Tuple3 = ((1, \"Lion\"), ( 2, \"Tiger\"), (3, \"Fox\"), (4, \"Wolf\"))\n",
    "print(\"Size of Tuple1: \" + str(sys.getsizeof(Tuple1)) + \"bytes\")\n",
    "print(\"Size of Tuple2: \" + str(sys.getsizeof(Tuple2)) + \"bytes\")\n",
    "print(\"Size of Tuple3: \" + str(sys.getsizeof(Tuple3)) + \"bytes\")\n",
    "# print the sizes of sample Tuples"
   ]
  },
  {
   "cell_type": "code",
   "execution_count": 2,
   "id": "7c26580a-d238-4354-8f2e-074e296c5964",
   "metadata": {},
   "outputs": [
    {
     "name": "stdout",
     "output_type": "stream",
     "text": [
      "Size of Tuple1: 72bytes\n",
      "Size of Tuple2: 72bytes\n",
      "Size of Tuple3: 56bytes\n"
     ]
    }
   ],
   "source": [
    "Tuple1 = (\"A\", 1, \"B\", 2, \"C\", 3)\n",
    "Tuple2 = (\"Geek1\", \"Raju\", \"Geek2\", \"Nikhil\", \"Geek3\", \"Deepanshu\")\n",
    "Tuple3 = ((1, \"Lion\"), ( 2, \"Tiger\"), (3, \"Fox\"), (4, \"Wolf\"))\n",
    "print(\"Size of Tuple1: \" + str(Tuple1.__sizeof__()) + \"bytes\")\n",
    "print(\"Size of Tuple2: \" + str(Tuple2.__sizeof__()) + \"bytes\")\n",
    "print(\"Size of Tuple3: \" + str(Tuple3.__sizeof__()) + \"bytes\")"
   ]
  },
  {
   "cell_type": "code",
   "execution_count": 3,
   "id": "a65a1f49-1adf-451e-9b26-f32e7c34649d",
   "metadata": {},
   "outputs": [
    {
     "name": "stdout",
     "output_type": "stream",
     "text": [
      "(3, 5, 25, 56)\n"
     ]
    }
   ],
   "source": [
    "# Python – Maximum and Minimum K elements in Tuple              # Using sorted() + loop\n",
    "x = (5,25,56,9,3,7,6)\n",
    "k = 2\n",
    "res =[]\n",
    "x = list(x)\n",
    "y = sorted(x)\n",
    "for i ,j in enumerate(y):\n",
    "    if i < k or i >= len(y) - k:\n",
    "        res.append(j)\n",
    "res = tuple(res)\n",
    "print(res)\n",
    "        \n"
   ]
  },
  {
   "cell_type": "code",
   "execution_count": 4,
   "id": "0759dc8c-dfaa-4219-8399-feacd61742d3",
   "metadata": {},
   "outputs": [
    {
     "name": "stdout",
     "output_type": "stream",
     "text": [
      "The original tuple is : (5, 20, 30, 7, 60, 8)\n",
      "The extracted values : (5, 7, 8, 20, 30, 60)\n"
     ]
    }
   ],
   "source": [
    "test_tup = (5, 20, 30, 7, 60, 8)\n",
    "print(\"The original tuple is : \" + str(test_tup))\n",
    "K = 3\n",
    "res = []\n",
    "test_tup = list(test_tup)\n",
    "temp = sorted(test_tup)\n",
    "\n",
    "for idx, val in enumerate(temp):\n",
    "\tif idx < K or idx >= len(temp) - K:\n",
    "\t\tres.append(val)\n",
    "res = tuple(res)\n",
    "print(\"The extracted values : \" + str(res))\n"
   ]
  },
  {
   "cell_type": "code",
   "execution_count": 5,
   "id": "51106820-59e7-4a9e-b33f-5a08b1f67954",
   "metadata": {},
   "outputs": [
    {
     "name": "stdout",
     "output_type": "stream",
     "text": [
      "(5, 20, 8, 20)\n"
     ]
    }
   ],
   "source": [
    "# Using slicing + sorted()\n",
    "x = (5, 20, 3, 7, 6, 8)\n",
    "k = 2\n",
    "x = list(x)\n",
    "y = sorted(x)\n",
    "res = tuple(x[:k] + y[-k:])\n",
    "print(res)"
   ]
  },
  {
   "cell_type": "code",
   "execution_count": 6,
   "id": "dee8cafd-1ada-4120-8f55-cda4461ab506",
   "metadata": {},
   "outputs": [
    {
     "name": "stdout",
     "output_type": "stream",
     "text": [
      "[(1, 1), (2, 8), (3, 27), (4, 64)]\n"
     ]
    }
   ],
   "source": [
    "# Python program to create a list of tuples from given list having number and its cube in each tuple\n",
    "x = [1,2,3,4]\n",
    "res = [(val, pow(val, 3)) for val in x]\n",
    "print(res)"
   ]
  },
  {
   "cell_type": "code",
   "execution_count": 7,
   "id": "af86d422-127c-40b1-9a75-d9a9c7381722",
   "metadata": {},
   "outputs": [
    {
     "name": "stdout",
     "output_type": "stream",
     "text": [
      "[5, 6, 7, 1, 3]\n"
     ]
    }
   ],
   "source": [
    "# Python – Adding Tuple to List and vice – versa\n",
    "# Using += operator [list + tuple]\n",
    "x = [5, 6, 7]\n",
    "y = (1, 3)\n",
    "x += y\n",
    "print(x)"
   ]
  },
  {
   "cell_type": "code",
   "execution_count": 8,
   "id": "acb46d55-ddb9-4d8d-a324-5da651e6aae1",
   "metadata": {},
   "outputs": [
    {
     "name": "stdout",
     "output_type": "stream",
     "text": [
      "(9, 10, 5, 6, 7)\n"
     ]
    }
   ],
   "source": [
    "# Using tuple(), data type conversion [tuple + list]   # Adding Tuple to List and vice - versa\n",
    "x = [5, 6, 7]\n",
    "y = (9, 10)\n",
    "res = tuple(list(y)+(x))\n",
    "print(res)"
   ]
  },
  {
   "cell_type": "code",
   "execution_count": 9,
   "id": "3a20b78c-f689-424f-bb0b-805c8b4363f4",
   "metadata": {},
   "outputs": [
    {
     "name": "stdout",
     "output_type": "stream",
     "text": [
      "(19, 23)\n"
     ]
    }
   ],
   "source": [
    "x = [(3, 4), (78, 76), (2, 3), (9, 8), (19, 23)]\n",
    "tup = (17, 23)\n",
    "k = 1\n",
    "min_dif , res= 999999999, None\n",
    "for idx , val in enumerate(x):\n",
    "    dif = abs(tup[k - 1] - val[k - 1])\n",
    "    if dif < min_dif:\n",
    "        min_dif,res = dif,idx\n",
    "print(x[res])"
   ]
  },
  {
   "cell_type": "code",
   "execution_count": 10,
   "id": "1f1acbc6-2e4a-4519-9431-60ca3e7e5b3d",
   "metadata": {},
   "outputs": [
    {
     "name": "stdout",
     "output_type": "stream",
     "text": [
      "(19, 23)\n"
     ]
    }
   ],
   "source": [
    "# Using min() + lambda\n",
    "test_list = [(3, 4), (78, 76), (2, 3), (9, 8), (19, 23)]\n",
    "tup = (17, 23)\n",
    "K = 1\n",
    "res = min(range(len(test_list)), key = lambda sub: abs(test_list[sub][K - 1] - tup[K - 1]))\n",
    "print(x[res])"
   ]
  },
  {
   "cell_type": "code",
   "execution_count": 11,
   "id": "fac4df63-e58f-42ef-9d4f-4d6e9170b43a",
   "metadata": {},
   "outputs": [
    {
     "name": "stdout",
     "output_type": "stream",
     "text": [
      "[(5, 6), (5, 7), (6, 8), (6, 10), (7, 13)]\n",
      "[(5, 6, 7), (6, 8, 10), (7, 13)]\n"
     ]
    }
   ],
   "source": [
    "# Python – Join Tuples if similar initial element    #1 : Using loop\n",
    "# Python3 code to demonstrate working of\n",
    "# Join Tuples if similar initial element\n",
    "test_list = [(5, 6), (5, 7), (6, 8), (6, 10), (7, 13)]\n",
    "print(test_list)\n",
    "res = []\n",
    "for sub in test_list:\t\t\t\t\t\t\t\t\t\t\n",
    "\tif res and res[-1][0] == sub[0]:\t\t\t\n",
    "\t\tres[-1].extend(sub[1:])\t\t\t\t\t\t\n",
    "\telse:\n",
    "\t\tres.append([ele for ele in sub])\t\n",
    "res = list(map(tuple, res))\n",
    "print(res)\n",
    "\n"
   ]
  },
  {
   "cell_type": "code",
   "execution_count": 12,
   "id": "9a873a73-f073-4e4d-bb5d-39cc4400e808",
   "metadata": {},
   "outputs": [
    {
     "name": "stdout",
     "output_type": "stream",
     "text": [
      "[(5, 6, 7), (6, 8, 10), (7, 13)]\n"
     ]
    }
   ],
   "source": [
    "#  Using defaultdict() + loop\n",
    "from collections import defaultdict\n",
    "test_list = [(5, 6), (5, 7), (6, 8), (6, 10), (7, 13)]\n",
    "mapp = defaultdict(list)\n",
    "for key, val in test_list:\n",
    "\tmapp[key].append(val)\n",
    "res = [(key, *val) for key, val in mapp.items()]\n",
    "print(res)"
   ]
  },
  {
   "cell_type": "code",
   "execution_count": 13,
   "id": "98f96b44-6b33-4dd4-9707-fef774fd389c",
   "metadata": {},
   "outputs": [
    {
     "name": "stdout",
     "output_type": "stream",
     "text": [
      "{'5', '1', '9', '2', '3', '0'}\n"
     ]
    }
   ],
   "source": [
    "# Python3 code to demonstrate working of\n",
    "# Extract digits from Tuple list\n",
    "# Using map() + chain.from_iterable() + set() + loop\n",
    "from itertools import chain\n",
    "test_list = [(15, 3), (3, 9), (1, 10), (99, 2)]\n",
    "# Extract digits from Tuple list\n",
    "# Using map() + chain.from_iterable() + set() + loop\n",
    "temp = map(lambda ele: str(ele), chain.from_iterable(test_list))\n",
    "res = set()\n",
    "for sub in temp:\n",
    "\tfor ele in sub:\n",
    "\t\tres.add(ele)\n",
    "print(res)"
   ]
  },
  {
   "cell_type": "code",
   "execution_count": 14,
   "id": "7259ea9c-5774-4037-bfc3-cdfec21a03c9",
   "metadata": {},
   "outputs": [
    {
     "name": "stdout",
     "output_type": "stream",
     "text": [
      "[5, 1, 9, 2, 3, 0]\n"
     ]
    }
   ],
   "source": [
    "# Using regex expression\n",
    "import re\n",
    "test_list = [(15, 3), (3, 9), (1, 10), (99, 2)]\n",
    "temp = re.sub(r'[\\[\\]\\(\\), ]', '', str(test_list))\n",
    "res = [int(ele) for ele in set(temp)]\n",
    "print(res)"
   ]
  },
  {
   "cell_type": "code",
   "execution_count": 15,
   "id": "c7d35c11-5963-4489-88d7-11856b02fc84",
   "metadata": {},
   "outputs": [
    {
     "name": "stdout",
     "output_type": "stream",
     "text": [
      "[(4, 7), (4, 8), (5, 7), (5, 8), (7, 4), (7, 5), (8, 4), (8, 5)]\n"
     ]
    }
   ],
   "source": [
    "# All pair combinations of 2 tuples\n",
    "# Using list comprehension\n",
    "x = (4, 5)\n",
    "y = (7, 8)\n",
    "res = [(a, b) for a in x for b in y]\n",
    "res = res +[(a, b) for a in y for b in  x]\n",
    "print(res)"
   ]
  },
  {
   "cell_type": "code",
   "execution_count": 16,
   "id": "2d8fe884-2824-4d0e-b28e-b10e9b179713",
   "metadata": {},
   "outputs": [
    {
     "name": "stdout",
     "output_type": "stream",
     "text": [
      "[(4, 7), (4, 8), (7, 7), (7, 8), (7, 4), (7, 7), (8, 4), (8, 7)]\n"
     ]
    }
   ],
   "source": [
    "# Using chain() + product()\n",
    "from itertools import chain, product\n",
    "x = (4, 7)\n",
    "y = (7, 8)\n",
    "res = list(chain(product(x, y), product(y, x)))\n",
    "print(res)"
   ]
  },
  {
   "cell_type": "code",
   "execution_count": 17,
   "id": "750db572-fba6-4374-a236-f412a3f210de",
   "metadata": {},
   "outputs": [
    {
     "name": "stdout",
     "output_type": "stream",
     "text": [
      "[(4, 5), (8, 6, 7), (3, 4, 6, 7)]\n"
     ]
    }
   ],
   "source": [
    "# Remove Tuples of Length K           Using list comprehension\n",
    "test_list = [(4, 5), (4, ), (8, 6, 7), (1, ), (3, 4, 6, 7)]\n",
    "K = 1\n",
    "res = [ele for ele in test_list if len(ele) != K]\n",
    "print(res)"
   ]
  },
  {
   "cell_type": "code",
   "execution_count": 18,
   "id": "afec38f0-c87f-4703-9bb7-03edb21629d6",
   "metadata": {},
   "outputs": [
    {
     "name": "stdout",
     "output_type": "stream",
     "text": [
      "[(4, 5), (8, 6, 7), (3, 4, 6, 7)]\n"
     ]
    }
   ],
   "source": [
    "# Using filter() + lambda + len() \n",
    "test_list = [(4, 5), (4, ), (8, 6, 7), (1, ), (3, 4, 6, 7)]\n",
    "K = 1\n",
    "res = list(filter(lambda x : len(x) != K, test_list))\n",
    "print(res)"
   ]
  },
  {
   "cell_type": "code",
   "execution_count": 19,
   "id": "7f1cbc48-1093-4ba0-adb4-6c353fa81edc",
   "metadata": {},
   "outputs": [
    {
     "name": "stdout",
     "output_type": "stream",
     "text": [
      "[('Geeksforgeeks', 5), ('is', 10), ('a', 15), ('portal', 20), ('for', 24), ('Geeks', 28)]\n"
     ]
    }
   ],
   "source": [
    "# Python program to sort a list of tuples by the second Item\n",
    "\n",
    "# Function to sort the list of tuples by its second item\n",
    "def Sort_Tuple(tup):\n",
    "\tlst = len(tup)\n",
    "\tfor i in range(0, lst):\n",
    "\t\tfor j in range(0, lst-i-1):\n",
    "\t\t\tif (tup[j][1] > tup[j + 1][1]):\n",
    "\t\t\t\ttemp = tup[j]\n",
    "\t\t\t\ttup[j]= tup[j + 1]\n",
    "\t\t\t\ttup[j + 1]= temp\n",
    "\treturn tup\n",
    "tup =[('for', 24), ('is', 10), ('Geeks', 28),\n",
    "\t('Geeksforgeeks', 5), ('portal', 20), ('a', 15)]\t\t\n",
    "print(Sort_Tuple(tup))"
   ]
  },
  {
   "cell_type": "code",
   "execution_count": 20,
   "id": "e9671fed-48f6-4f5b-b757-522f706d8c1b",
   "metadata": {},
   "outputs": [
    {
     "name": "stdout",
     "output_type": "stream",
     "text": [
      "[('akash', 5), ('rishav', 10), ('gaurav', 15), ('ram', 20)]\n"
     ]
    }
   ],
   "source": [
    "# Python program to sort a list of\n",
    "# tuples by the second Item using sort()\n",
    "\n",
    "# Function to sort hte list by second item of tuple\n",
    "def Sort_Tuple(tup):\n",
    "\ttup.sort(key = lambda x: x[1])\n",
    "\treturn tup\n",
    "tup = [('rishav', 10), ('akash', 5), ('ram', 20), ('gaurav', 15)]\n",
    "print(Sort_Tuple(tup))"
   ]
  },
  {
   "cell_type": "code",
   "execution_count": 21,
   "id": "e0d60e7d-6d26-43ce-ab4f-25c3319e12d7",
   "metadata": {},
   "outputs": [
    {
     "name": "stdout",
     "output_type": "stream",
     "text": [
      "[('akash', 5), ('rishav', 10), ('gaurav', 15), ('ram', 20)]\n"
     ]
    }
   ],
   "source": [
    "# Python program to sort a list of\n",
    "# tuples by the second Item using sorted()\n",
    "\n",
    "# Function to sort the list by second item of tuple\n",
    "def Sort_Tuple(tup):\n",
    "\treturn(sorted(tup, key = lambda x: x[1]))\n",
    "tup = [('rishav', 10), ('akash', 5), ('ram', 20), ('gaurav', 15)]\n",
    "print(Sort_Tuple(tup))"
   ]
  },
  {
   "cell_type": "code",
   "execution_count": 22,
   "id": "89457858-0e2d-4e20-bab4-8e5681a492eb",
   "metadata": {},
   "outputs": [
    {
     "name": "stdout",
     "output_type": "stream",
     "text": [
      "[('Geeks', 2), ('best', 9), ('CS', 10), ('Gfg', 3)]\n"
     ]
    }
   ],
   "source": [
    "# Python – Order Tuples by List\n",
    "# Using dict() + list comprehension\n",
    "test_list = [('Gfg', 3), ('best', 9), ('CS', 10), ('Geeks', 2)]\n",
    "ord_list = ['Geeks', 'best', 'CS', 'Gfg']\n",
    "temp = dict(test_list)\n",
    "res = [(key, temp[key]) for key in ord_list]\n",
    "print(res)"
   ]
  },
  {
   "cell_type": "code",
   "execution_count": 23,
   "id": "c5e47296-1d20-43d7-8094-061dc0a3c5e3",
   "metadata": {},
   "outputs": [
    {
     "name": "stdout",
     "output_type": "stream",
     "text": [
      "[('Geeks', 2), ('best', 9), ('CS', 10), ('Gfg', 3)]\n"
     ]
    }
   ],
   "source": [
    "# Using setdefault() + sorted() + lambda\n",
    "\n",
    "test_list = [('Gfg', 3), ('best', 9), ('CS', 10), ('Geeks', 2)]\n",
    "ord_list = ['Geeks', 'best', 'CS', 'Gfg']\n",
    "# Using setdefault() + sorted() + lambda\n",
    "temp = dict()\n",
    "for key, ele in enumerate(ord_list):\n",
    "\ttemp.setdefault(ele, []).append(key)\t\n",
    "res = sorted(test_list, key = lambda ele: temp[ele[0]].pop())\n",
    "print(res)"
   ]
  },
  {
   "cell_type": "code",
   "execution_count": 24,
   "id": "8b07b8a2-485e-4909-92d4-e96373bc1569",
   "metadata": {},
   "outputs": [
    {
     "name": "stdout",
     "output_type": "stream",
     "text": [
      "(5, 6, 6, 7, 8, 9, 3)\n"
     ]
    }
   ],
   "source": [
    "# Python – Flatten tuple of List to tuple\n",
    "# Using sum() + tuple()\n",
    "test_tuple = ([5, 6], [6, 7, 8, 9], [3])\n",
    "# Using sum() + tuple()\n",
    "res = tuple(sum(test_tuple, []))\n",
    "print(res)"
   ]
  },
  {
   "cell_type": "code",
   "execution_count": 25,
   "id": "a81559e7-918d-4ce4-a904-eb9665e8df67",
   "metadata": {},
   "outputs": [
    {
     "name": "stdout",
     "output_type": "stream",
     "text": [
      "(5, 6, 6, 7, 8, 9, 3)\n"
     ]
    }
   ],
   "source": [
    "# Flatten tuple of List to tuple\n",
    "# Using tuple() + chain.from_iterable()\n",
    "from itertools import chain\n",
    "test_tuple = ([5, 6], [6, 7, 8, 9], [3])\n",
    "# Using tuple() + chain.from_iterable()\n",
    "res = tuple(chain.from_iterable(test_tuple))\n",
    "print(res)"
   ]
  },
  {
   "cell_type": "code",
   "execution_count": 26,
   "id": "b3a05ff5-6db6-4188-a105-17cd3fdcafb6",
   "metadata": {},
   "outputs": [
    {
     "name": "stdout",
     "output_type": "stream",
     "text": [
      "[{'key': 4, 'value': 'Gfg', 'id': 10}, {'key': 3, 'value': 'is', 'id': 8}, {'key': 6, 'value': 'Best', 'id': 10}]\n"
     ]
    }
   ],
   "source": [
    "# Python – Convert Nested Tuple to Custom Key Dictionar\n",
    "# Using list comprehension + dictionary comprehension\n",
    "test_tuple = ((4, 'Gfg', 10), (3, 'is', 8), (6, 'Best', 10))\n",
    "# Using list comprehension + dictionary comprehension\n",
    "res = [{'key': sub[0], 'value': sub[1], 'id': sub[2]}\n",
    "\t\t\t\t\t\t\tfor sub in test_tuple]\n",
    "print(res)"
   ]
  },
  {
   "cell_type": "code",
   "execution_count": null,
   "id": "aa0ae697-e3e3-4fa7-b9fa-b02b27bf8131",
   "metadata": {},
   "outputs": [],
   "source": []
  },
  {
   "cell_type": "code",
   "execution_count": null,
   "id": "2f8bfdd0-3949-4704-a922-a9d512edeb13",
   "metadata": {},
   "outputs": [],
   "source": []
  },
  {
   "cell_type": "code",
   "execution_count": null,
   "id": "7b6ef3ce-323d-4b84-b6a9-2812aaac15cb",
   "metadata": {},
   "outputs": [],
   "source": []
  },
  {
   "cell_type": "code",
   "execution_count": null,
   "id": "9a2cbce6-bb0a-49a6-a7f8-6418b051ad1c",
   "metadata": {},
   "outputs": [],
   "source": []
  },
  {
   "cell_type": "code",
   "execution_count": null,
   "id": "14472a09-ae0f-4b7c-89c0-11fecaf7157a",
   "metadata": {},
   "outputs": [],
   "source": []
  },
  {
   "cell_type": "code",
   "execution_count": null,
   "id": "bea0b81a-25a3-4b9e-b1fc-456dabded092",
   "metadata": {},
   "outputs": [],
   "source": []
  },
  {
   "cell_type": "code",
   "execution_count": null,
   "id": "eb5e885f-633d-4809-a578-2fa0acf2a81d",
   "metadata": {},
   "outputs": [],
   "source": []
  },
  {
   "cell_type": "code",
   "execution_count": null,
   "id": "401fd62d-f838-4c31-861d-91c4c68acdbc",
   "metadata": {},
   "outputs": [],
   "source": []
  },
  {
   "cell_type": "code",
   "execution_count": null,
   "id": "8121441a-4cf8-49e1-9879-b60b56a2409f",
   "metadata": {},
   "outputs": [],
   "source": []
  },
  {
   "cell_type": "code",
   "execution_count": null,
   "id": "389d0290-f9d3-4015-b205-8beb07e8579f",
   "metadata": {},
   "outputs": [],
   "source": []
  },
  {
   "cell_type": "code",
   "execution_count": null,
   "id": "1bc2f75e-358a-42ed-bc1d-51fab248571f",
   "metadata": {},
   "outputs": [],
   "source": []
  },
  {
   "cell_type": "code",
   "execution_count": null,
   "id": "4cbe8928-c291-43e5-b2ed-f592be32382f",
   "metadata": {},
   "outputs": [],
   "source": []
  },
  {
   "cell_type": "code",
   "execution_count": null,
   "id": "de7ba23b-a35d-47aa-a77c-bfb345608bc8",
   "metadata": {},
   "outputs": [],
   "source": []
  },
  {
   "cell_type": "code",
   "execution_count": null,
   "id": "20424288-04d5-465e-bb7b-6f4b828999eb",
   "metadata": {},
   "outputs": [],
   "source": []
  },
  {
   "cell_type": "code",
   "execution_count": null,
   "id": "8e4e5f43-df8e-4d80-a80f-834e50acba8f",
   "metadata": {},
   "outputs": [],
   "source": []
  },
  {
   "cell_type": "code",
   "execution_count": null,
   "id": "6e87cfc7-5ce6-4e09-94f5-8d8aaa3a4e63",
   "metadata": {},
   "outputs": [],
   "source": []
  },
  {
   "cell_type": "code",
   "execution_count": null,
   "id": "a8fed1ee-cf32-41b7-923e-6b0b9e7bf7ee",
   "metadata": {},
   "outputs": [],
   "source": []
  },
  {
   "cell_type": "code",
   "execution_count": null,
   "id": "13a6874c-fd80-4861-9677-ded47d61fe2c",
   "metadata": {},
   "outputs": [],
   "source": []
  },
  {
   "cell_type": "code",
   "execution_count": null,
   "id": "78fc4f0e-f6e7-4518-9180-362bc24cc92d",
   "metadata": {},
   "outputs": [],
   "source": []
  },
  {
   "cell_type": "code",
   "execution_count": null,
   "id": "0ec0900a-db7f-4e08-9fc1-2694e369cc1e",
   "metadata": {},
   "outputs": [],
   "source": []
  },
  {
   "cell_type": "code",
   "execution_count": null,
   "id": "183bde1c-e408-40a9-ae81-1807a76696fd",
   "metadata": {},
   "outputs": [],
   "source": []
  },
  {
   "cell_type": "code",
   "execution_count": null,
   "id": "6c9ba872-c235-410f-af23-f33101d540a8",
   "metadata": {},
   "outputs": [],
   "source": []
  },
  {
   "cell_type": "code",
   "execution_count": null,
   "id": "57a80f82-3849-4000-aa05-1e44e659f579",
   "metadata": {},
   "outputs": [],
   "source": []
  },
  {
   "cell_type": "code",
   "execution_count": null,
   "id": "f8cc3274-833f-40e7-aa24-9a79df6ec042",
   "metadata": {},
   "outputs": [],
   "source": []
  },
  {
   "cell_type": "code",
   "execution_count": null,
   "id": "dd0c779d-7d08-47af-b0e4-d50a34a29e64",
   "metadata": {},
   "outputs": [],
   "source": []
  },
  {
   "cell_type": "code",
   "execution_count": null,
   "id": "e7e49273-dcbf-46ea-831d-ce04864ecb44",
   "metadata": {},
   "outputs": [],
   "source": []
  },
  {
   "cell_type": "code",
   "execution_count": null,
   "id": "035a915c-83ca-448e-abaa-356659563237",
   "metadata": {},
   "outputs": [],
   "source": []
  },
  {
   "cell_type": "code",
   "execution_count": null,
   "id": "6ee7161a-2d26-49c7-874e-6a9d22df71b4",
   "metadata": {},
   "outputs": [],
   "source": []
  },
  {
   "cell_type": "code",
   "execution_count": null,
   "id": "d6807325-eb3a-4c3e-85da-95a198fe081f",
   "metadata": {},
   "outputs": [],
   "source": []
  },
  {
   "cell_type": "code",
   "execution_count": null,
   "id": "e3190581-e34c-4834-b692-9fe9d3739f49",
   "metadata": {},
   "outputs": [],
   "source": []
  },
  {
   "cell_type": "code",
   "execution_count": null,
   "id": "c32b8319-4547-485b-8d56-93db56178052",
   "metadata": {},
   "outputs": [],
   "source": []
  },
  {
   "cell_type": "code",
   "execution_count": null,
   "id": "680e9df4-b717-4e53-bd92-ce1d8bc8781d",
   "metadata": {},
   "outputs": [],
   "source": []
  },
  {
   "cell_type": "code",
   "execution_count": null,
   "id": "2f13868a-277f-465c-a751-416400bac832",
   "metadata": {},
   "outputs": [],
   "source": []
  },
  {
   "cell_type": "code",
   "execution_count": null,
   "id": "f60bf99e-b077-4397-9c23-04947244b24e",
   "metadata": {},
   "outputs": [],
   "source": []
  },
  {
   "cell_type": "code",
   "execution_count": null,
   "id": "835a307e-2076-498a-a4f6-e7eb00e12cd3",
   "metadata": {},
   "outputs": [],
   "source": []
  },
  {
   "cell_type": "code",
   "execution_count": null,
   "id": "811b446b-b69e-461c-875e-d3d8fc7215ef",
   "metadata": {},
   "outputs": [],
   "source": []
  },
  {
   "cell_type": "code",
   "execution_count": null,
   "id": "74d9f6a3-8cdd-4630-a94f-e0c7ec165fd4",
   "metadata": {},
   "outputs": [],
   "source": []
  },
  {
   "cell_type": "code",
   "execution_count": null,
   "id": "789ab7d8-9060-46db-a322-a9024b86001c",
   "metadata": {},
   "outputs": [],
   "source": []
  },
  {
   "cell_type": "code",
   "execution_count": null,
   "id": "1e7fdb93-5e89-4605-a496-587e670c8db6",
   "metadata": {},
   "outputs": [],
   "source": []
  },
  {
   "cell_type": "code",
   "execution_count": null,
   "id": "9c65856a-7c47-49f7-a179-8d91295b5c78",
   "metadata": {},
   "outputs": [],
   "source": []
  },
  {
   "cell_type": "code",
   "execution_count": null,
   "id": "7acaa4d1-bd8a-470c-abd6-378c0d0ba866",
   "metadata": {},
   "outputs": [],
   "source": []
  },
  {
   "cell_type": "code",
   "execution_count": null,
   "id": "3c62ef9c-5338-45e6-b7ad-c03c20cd5e1d",
   "metadata": {},
   "outputs": [],
   "source": []
  },
  {
   "cell_type": "code",
   "execution_count": null,
   "id": "24458b7a-6ce4-4e79-9486-54a6781e97b7",
   "metadata": {},
   "outputs": [],
   "source": []
  },
  {
   "cell_type": "code",
   "execution_count": null,
   "id": "0d665d84-b422-4b16-b5b0-b3f2034eed2d",
   "metadata": {},
   "outputs": [],
   "source": []
  },
  {
   "cell_type": "code",
   "execution_count": null,
   "id": "dbc37e05-12eb-4e5a-8e2c-7d4a93b595a1",
   "metadata": {},
   "outputs": [],
   "source": []
  },
  {
   "cell_type": "code",
   "execution_count": null,
   "id": "f415a74c-761c-4e69-afec-94b5280a6083",
   "metadata": {},
   "outputs": [],
   "source": []
  },
  {
   "cell_type": "code",
   "execution_count": null,
   "id": "048923ea-a5c2-4740-bcff-09540789786d",
   "metadata": {},
   "outputs": [],
   "source": []
  },
  {
   "cell_type": "code",
   "execution_count": null,
   "id": "338c1982-61a6-4c19-b707-22bad2d0cb70",
   "metadata": {},
   "outputs": [],
   "source": []
  },
  {
   "cell_type": "code",
   "execution_count": null,
   "id": "beeeb311-1eb9-435f-94fc-e4d5b2a83283",
   "metadata": {},
   "outputs": [],
   "source": []
  },
  {
   "cell_type": "code",
   "execution_count": null,
   "id": "3e3a142c-d616-4ab7-a6a1-4d5179e02bc1",
   "metadata": {},
   "outputs": [],
   "source": []
  },
  {
   "cell_type": "code",
   "execution_count": null,
   "id": "ea002d05-a29e-4742-8377-dc49de36f888",
   "metadata": {},
   "outputs": [],
   "source": []
  },
  {
   "cell_type": "code",
   "execution_count": null,
   "id": "d678549a-b220-4aa1-8cc8-3e0327c3c5a0",
   "metadata": {},
   "outputs": [],
   "source": []
  },
  {
   "cell_type": "code",
   "execution_count": null,
   "id": "33d6cceb-79c3-482f-8b02-8a7add622fa2",
   "metadata": {},
   "outputs": [],
   "source": []
  },
  {
   "cell_type": "code",
   "execution_count": null,
   "id": "70b01ac9-0f46-44b5-8f55-06568d785f06",
   "metadata": {},
   "outputs": [],
   "source": []
  },
  {
   "cell_type": "code",
   "execution_count": null,
   "id": "57a00b87-15e6-4fb7-b6de-295bc1888380",
   "metadata": {},
   "outputs": [],
   "source": []
  },
  {
   "cell_type": "code",
   "execution_count": null,
   "id": "145d1e67-073f-4b23-aa62-575fec2d5286",
   "metadata": {},
   "outputs": [],
   "source": []
  },
  {
   "cell_type": "code",
   "execution_count": null,
   "id": "38541782-5c5d-40ea-89f6-d055d52136a6",
   "metadata": {},
   "outputs": [],
   "source": []
  },
  {
   "cell_type": "code",
   "execution_count": null,
   "id": "c06ddbcb-41f8-4f43-a303-16ddc1d46a41",
   "metadata": {},
   "outputs": [],
   "source": []
  },
  {
   "cell_type": "code",
   "execution_count": null,
   "id": "c32ade8a-2d3b-4dcf-8d66-27d43f858e7e",
   "metadata": {},
   "outputs": [],
   "source": []
  },
  {
   "cell_type": "code",
   "execution_count": null,
   "id": "a40fc570-34ed-4d81-9085-a46266b7dbc4",
   "metadata": {},
   "outputs": [],
   "source": []
  },
  {
   "cell_type": "code",
   "execution_count": null,
   "id": "7133cefe-f7e8-4061-8087-c4385b861e12",
   "metadata": {},
   "outputs": [],
   "source": []
  },
  {
   "cell_type": "code",
   "execution_count": null,
   "id": "10ea685a-7ce7-4663-b60e-85cbb72d239b",
   "metadata": {},
   "outputs": [],
   "source": []
  },
  {
   "cell_type": "code",
   "execution_count": null,
   "id": "a87503bb-87ee-40b4-8c8e-21fcb4b2abfd",
   "metadata": {},
   "outputs": [],
   "source": []
  },
  {
   "cell_type": "code",
   "execution_count": null,
   "id": "869d899b-060f-496f-8e8a-e3e68193d950",
   "metadata": {},
   "outputs": [],
   "source": []
  },
  {
   "cell_type": "code",
   "execution_count": null,
   "id": "70a273fa-0711-478c-9502-df552b537954",
   "metadata": {},
   "outputs": [],
   "source": []
  },
  {
   "cell_type": "code",
   "execution_count": null,
   "id": "98409f08-4e56-4283-bc0f-a3ebafad7748",
   "metadata": {},
   "outputs": [],
   "source": []
  },
  {
   "cell_type": "code",
   "execution_count": null,
   "id": "30cbb621-e984-454c-9fa4-c73c96b64a1d",
   "metadata": {},
   "outputs": [],
   "source": []
  },
  {
   "cell_type": "code",
   "execution_count": null,
   "id": "3e7e4564-dbe5-4425-9377-b3fb545435f6",
   "metadata": {},
   "outputs": [],
   "source": []
  },
  {
   "cell_type": "code",
   "execution_count": null,
   "id": "ba85a731-09f7-4d0c-90bb-989ba4a6ea60",
   "metadata": {},
   "outputs": [],
   "source": []
  },
  {
   "cell_type": "code",
   "execution_count": null,
   "id": "66b307b1-1740-4177-96cd-6b8dc74c679f",
   "metadata": {},
   "outputs": [],
   "source": []
  },
  {
   "cell_type": "code",
   "execution_count": null,
   "id": "6af479d0-e9af-47fe-9f89-8656bf7cacc8",
   "metadata": {},
   "outputs": [],
   "source": []
  },
  {
   "cell_type": "code",
   "execution_count": null,
   "id": "95c8cf22-ddf7-4479-bb45-ae4d89c15466",
   "metadata": {},
   "outputs": [],
   "source": []
  },
  {
   "cell_type": "code",
   "execution_count": null,
   "id": "cf3e4858-1b11-4bfb-9a96-b2e26445f40c",
   "metadata": {},
   "outputs": [],
   "source": []
  },
  {
   "cell_type": "code",
   "execution_count": null,
   "id": "c99ed030-93b2-4ab3-839f-b74b36756aa2",
   "metadata": {},
   "outputs": [],
   "source": []
  },
  {
   "cell_type": "code",
   "execution_count": null,
   "id": "42fc562b-868a-4b4b-913b-3febe47b78df",
   "metadata": {},
   "outputs": [],
   "source": []
  },
  {
   "cell_type": "code",
   "execution_count": null,
   "id": "a6172deb-5c38-4e3c-aca4-7163269fd4e2",
   "metadata": {},
   "outputs": [],
   "source": []
  },
  {
   "cell_type": "code",
   "execution_count": null,
   "id": "42c66531-3551-4d9a-91d8-dfb6e13ae2a8",
   "metadata": {},
   "outputs": [],
   "source": []
  },
  {
   "cell_type": "code",
   "execution_count": null,
   "id": "345c931a-41dd-4d31-8270-25c17161303c",
   "metadata": {},
   "outputs": [],
   "source": []
  }
 ],
 "metadata": {
  "kernelspec": {
   "display_name": "Python 3",
   "language": "python",
   "name": "python3"
  },
  "language_info": {
   "codemirror_mode": {
    "name": "ipython",
    "version": 3
   },
   "file_extension": ".py",
   "mimetype": "text/x-python",
   "name": "python",
   "nbconvert_exporter": "python",
   "pygments_lexer": "ipython3",
   "version": "3.8.6"
  }
 },
 "nbformat": 4,
 "nbformat_minor": 5
}
